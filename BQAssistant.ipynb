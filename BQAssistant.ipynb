{
 "cells": [
  {
   "cell_type": "markdown",
   "metadata": {},
   "source": [
    "![Diagram](diagram.png)"
   ]
  },
  {
   "cell_type": "markdown",
   "metadata": {},
   "source": [
    "### 1. Import and variables setup"
   ]
  },
  {
   "cell_type": "code",
   "execution_count": 1,
   "metadata": {},
   "outputs": [],
   "source": [
    "#Core imports\n",
    "import os\n",
    "import io\n",
    "import html\n",
    "import matplotlib.pyplot as plt\n",
    "#Audio imports\n",
    "from ipywebrtc import AudioRecorder, CameraStream\n",
    "from IPython.display import Audio\n",
    "#GCP - DataQnA imports\n",
    "from google.api_core.client_options import ClientOptions\n",
    "from google.cloud.dataqna import AutoSuggestionServiceClient, Question, QuestionServiceClient, SuggestQueriesRequest\n",
    "from google.cloud import bigquery\n",
    "#GCP - StT imports\n",
    "from google.cloud import speech\n",
    "#GCP - Translate API\n",
    "from google.cloud import translate_v2 as translate"
   ]
  },
  {
   "cell_type": "code",
   "execution_count": 2,
   "metadata": {},
   "outputs": [],
   "source": [
    "#Variables\n",
    "os.environ[\"GOOGLE_APPLICATION_CREDENTIALS\"] = '../key.json'\n",
    "project = \"velascoluis-test\"\n",
    "location = \"us\"\n",
    "dataset=\"dataqna\"\n",
    "table=\"natality\"\n",
    "scope = f\"//bigquery.googleapis.com/projects/{project}/datasets/{dataset}/tables/{table}\"\n",
    "RATE = 48000\n",
    "lang_code=\"es-ES\""
   ]
  },
  {
   "cell_type": "markdown",
   "metadata": {},
   "source": [
    "Tabla inspection: U.S.A. natality data"
   ]
  },
  {
   "cell_type": "code",
   "execution_count": 3,
   "metadata": {},
   "outputs": [
    {
     "name": "stdout",
     "output_type": "stream",
     "text": [
      "creationTime: '1594360490761'\n",
      "etag: tHyzjxJRIRmwCxTwUNuv5g==\n",
      "id: velascoluis-test:dataqna.natality\n",
      "kind: bigquery#table\n",
      "lastModifiedTime: '1594360490761'\n",
      "location: US\n",
      "numBytes: '23562717384'\n",
      "numLongTermBytes: '23562717384'\n",
      "numRows: '137826763'\n",
      "schema:\n",
      "  fields:\n",
      "  - name: source_year\n",
      "    type: INTEGER\n",
      "  - name: year\n",
      "    type: INTEGER\n",
      "  - name: month\n",
      "    type: INTEGER\n",
      "  - name: day\n",
      "    type: INTEGER\n",
      "  - name: wday\n",
      "    type: INTEGER\n",
      "  - name: state\n",
      "    type: STRING\n",
      "  - name: is_male\n",
      "    type: BOOLEAN\n",
      "  - name: child_race\n",
      "    type: INTEGER\n",
      "  - name: weight_pounds\n",
      "    type: FLOAT\n",
      "  - name: plurality\n",
      "    type: INTEGER\n",
      "  - name: apgar_1min\n",
      "    type: INTEGER\n",
      "  - name: apgar_5min\n",
      "    type: INTEGER\n",
      "  - name: mother_residence_state\n",
      "    type: STRING\n",
      "  - name: mother_race\n",
      "    type: INTEGER\n",
      "  - name: mother_age\n",
      "    type: INTEGER\n",
      "  - name: gestation_weeks\n",
      "    type: INTEGER\n",
      "  - name: lmp\n",
      "    type: STRING\n",
      "  - name: mother_married\n",
      "    type: BOOLEAN\n",
      "  - name: mother_birth_state\n",
      "    type: STRING\n",
      "  - name: cigarette_use\n",
      "    type: BOOLEAN\n",
      "  - name: cigarettes_per_day\n",
      "    type: INTEGER\n",
      "  - name: alcohol_use\n",
      "    type: BOOLEAN\n",
      "  - name: drinks_per_week\n",
      "    type: INTEGER\n",
      "  - name: weight_gain_pounds\n",
      "    type: INTEGER\n",
      "  - name: born_alive_alive\n",
      "    type: INTEGER\n",
      "  - name: born_alive_dead\n",
      "    type: INTEGER\n",
      "  - name: born_dead\n",
      "    type: INTEGER\n",
      "  - name: ever_born\n",
      "    type: INTEGER\n",
      "  - name: father_race\n",
      "    type: INTEGER\n",
      "  - name: father_age\n",
      "    type: INTEGER\n",
      "  - name: record_weight\n",
      "    type: INTEGER\n",
      "selfLink: https://bigquery.googleapis.com/bigquery/v2/projects/velascoluis-test/datasets/dataqna/tables/natality\n",
      "tableReference:\n",
      "  datasetId: dataqna\n",
      "  projectId: velascoluis-test\n",
      "  tableId: natality\n",
      "type: TABLE\n"
     ]
    }
   ],
   "source": [
    "!gcloud alpha bq tables describe --dataset dataqna natality"
   ]
  },
  {
   "cell_type": "markdown",
   "metadata": {},
   "source": [
    "### 2. Record voice using local mic."
   ]
  },
  {
   "cell_type": "markdown",
   "metadata": {},
   "source": [
    "Example queries in Spanish:\n",
    "* ¿Cómo se ven afectadas las semanas de gestación promedio por beber? - OK\n",
    "* ¿Cuál es el mes más frecuente? - OK\n",
    "* Obtener el peso récord máximo por cada raza - OK\n",
    "* Compara  muertos y vivos para el estado AL - OK"
   ]
  },
  {
   "cell_type": "code",
   "execution_count": 4,
   "metadata": {},
   "outputs": [
    {
     "data": {
      "application/vnd.jupyter.widget-view+json": {
       "model_id": "b9898b984c474a51900af263858b247c",
       "version_major": 2,
       "version_minor": 0
      },
      "text/plain": [
       "AudioRecorder(audio=Audio(value=b'', format='webm'), stream=CameraStream(constraints={'audio': True, 'video': …"
      ]
     },
     "metadata": {},
     "output_type": "display_data"
    }
   ],
   "source": [
    "camera = CameraStream(constraints={'audio': True,'video':False})\n",
    "recorder = AudioRecorder(stream=camera)\n",
    "recorder"
   ]
  },
  {
   "cell_type": "markdown",
   "metadata": {},
   "source": [
    "We need to change the webm file to a compatible format (e.g. wav). We use ffmepg"
   ]
  },
  {
   "cell_type": "code",
   "execution_count": 6,
   "metadata": {},
   "outputs": [],
   "source": [
    "with open(\"recording.webm\", 'wb') as f:\n",
    "    f.write(recorder.audio.value)\n",
    "!ffmpeg -i recording.webm -ac 1 -f wav command.wav -y -hide_banner -loglevel panic"
   ]
  },
  {
   "cell_type": "markdown",
   "metadata": {},
   "source": [
    "### 3. Transcript audio file using Google Cloud Speech-to-Text"
   ]
  },
  {
   "cell_type": "code",
   "execution_count": 7,
   "metadata": {},
   "outputs": [
    {
     "name": "stdout",
     "output_type": "stream",
     "text": [
      "ES StT transcript command: cómo se ven afectadas las semanas de gestación promedio por beber \n"
     ]
    }
   ],
   "source": [
    "transcript = \"\"\n",
    "client = speech.SpeechClient()\n",
    "with io.open(\"command.wav\", \"rb\") as audio_file:\n",
    "    content = audio_file.read()\n",
    "    audio = speech.RecognitionAudio(content=content)\n",
    "    config = speech.RecognitionConfig(\n",
    "        encoding=speech.RecognitionConfig.AudioEncoding.LINEAR16,\n",
    "        sample_rate_hertz=RATE,\n",
    "        language_code=lang_code,\n",
    "    )\n",
    "    response = client.recognize(config=config, audio=audio)\n",
    "    for result in response.results:\n",
    "        transcript = result.alternatives[0].transcript\n",
    "        print(f'''ES StT transcript command: {transcript} ''')"
   ]
  },
  {
   "cell_type": "markdown",
   "metadata": {},
   "source": [
    "### 4.Translate to English"
   ]
  },
  {
   "cell_type": "code",
   "execution_count": 8,
   "metadata": {},
   "outputs": [
    {
     "name": "stdout",
     "output_type": "stream",
     "text": [
      "EN Input command: how average gestation weeks are affected by drinking \n"
     ]
    }
   ],
   "source": [
    "translate_client = translate.Client()\n",
    "result = translate_client.translate(transcript, target_language=\"en\")\n",
    "input_sql = html.unescape(result[\"translatedText\"])\n",
    "print(f'''EN Input command: {input_sql} ''')"
   ]
  },
  {
   "cell_type": "markdown",
   "metadata": {},
   "source": [
    "### 5. Call DataQnA to execute SQL against BQ"
   ]
  },
  {
   "cell_type": "code",
   "execution_count": 9,
   "metadata": {},
   "outputs": [
    {
     "name": "stdout",
     "output_type": "stream",
     "text": [
      "Question: how average gestation weeks are affected by drinking\n",
      "Interpretation: Average of gestation_weeks across rows by alcohol_use\n",
      "SQL Query:\n",
      "SELECT\n",
      "  alcohol_use AS alcohol_use,\n",
      "  (AVG(gestation_weeks)) AS AVG_gestation_weeks\n",
      "FROM\n",
      "  `velascoluis-test.dataqna.natality`\n",
      "GROUP BY alcohol_use;\n",
      "Results:\n",
      "[{'alcohol_use': False, 'AVG_gestation_weeks': 38.82921819069206}, {'alcohol_use': None, 'AVG_gestation_weeks': 44.45255444989029}, {'alcohol_use': True, 'AVG_gestation_weeks': 38.54718852614179}]\n",
      "\n"
     ]
    }
   ],
   "source": [
    "client_options = ClientOptions(api_endpoint=f\"{location}-dataqna.googleapis.com\")\n",
    "suggest_client = AutoSuggestionServiceClient(client_options=client_options)\n",
    "questions_client = QuestionServiceClient(client_options=client_options)\n",
    "bq_client = bigquery.Client()\n",
    "parent = questions_client.common_location_path(project, location)\n",
    "question = Question(scopes=[scope], query=input_sql)\n",
    "question_response = questions_client.create_question(parent=parent, question=question)\n",
    "chosen_interpretation_index = 0\n",
    "question_response = questions_client.execute_question(name=question_response.name, interpretation_index=chosen_interpretation_index)\n",
    "chosen_interpretation = question_response.interpretations[chosen_interpretation_index]\n",
    "bigquery_job = chosen_interpretation.execution_info.bigquery_job\n",
    "job = bq_client.get_job(bigquery_job.job_id, bigquery_job.project_id, bigquery_job.location)\n",
    "job_results = job.result()\n",
    "headers = [schema_field.name for schema_field in job_results.schema]\n",
    "results = [dict(row) for row in job_results]\n",
    "print(f'''Question: {question_response.query}\n",
    "Interpretation: {chosen_interpretation.human_readable.generated_interpretation.text_formatted}\n",
    "SQL Query:\n",
    "{chosen_interpretation.data_query.sql}\n",
    "Results:\n",
    "{results}\n",
    "''')"
   ]
  },
  {
   "cell_type": "code",
   "execution_count": 10,
   "metadata": {},
   "outputs": [
    {
     "data": {
      "image/png": "[encoded data removed]",
      "text/plain": [
       "<Figure size 432x288 with 1 Axes>"
      ]
     },
     "metadata": {
      "needs_background": "light"
     },
     "output_type": "display_data"
    }
   ],
   "source": [
    "df = job.result().to_dataframe()\n",
    "df.plot(kind='bar',x=df.columns[0],y=df.columns[1],color='blue')\n",
    "plt.show()"
   ]
  }
 ],
 "metadata": {
  "kernelspec": {
   "display_name": "Python 3",
   "language": "python",
   "name": "python3"
  },
  "language_info": {
   "codemirror_mode": {
    "name": "ipython",
    "version": 3
   },
   "file_extension": ".py",
   "mimetype": "text/x-python",
   "name": "python",
   "nbconvert_exporter": "python",
   "pygments_lexer": "ipython3",
   "version": "3.7.4"
  }
 },
 "nbformat": 4,
 "nbformat_minor": 4
}
