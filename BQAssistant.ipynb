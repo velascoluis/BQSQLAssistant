{
 "cells": [
  {
   "cell_type": "markdown",
   "metadata": {},
   "source": [
    "![Diagram](diagram.png)"
   ]
  },
  {
   "cell_type": "markdown",
   "metadata": {},
   "source": [
    "### 1. Import and variables setup"
   ]
  },
  {
   "cell_type": "code",
   "execution_count": 1,
   "metadata": {},
   "outputs": [],
   "source": [
    "#Core imports\n",
    "import os\n",
    "import io\n",
    "import html\n",
    "import matplotlib.pyplot as plt\n",
    "#Audio imports\n",
    "from ipywebrtc import AudioRecorder, CameraStream\n",
    "from IPython.display import Audio\n",
    "#GCP - DataQnA imports\n",
    "from google.api_core.client_options import ClientOptions\n",
    "from google.cloud.dataqna import AutoSuggestionServiceClient, Question, QuestionServiceClient, SuggestQueriesRequest\n",
    "from google.cloud import bigquery\n",
    "#GCP - StT imports\n",
    "from google.cloud import speech\n",
    "#GCP - Translate API\n",
    "from google.cloud import translate_v2 as translate"
   ]
  },
  {
   "cell_type": "code",
   "execution_count": 2,
   "metadata": {},
   "outputs": [],
   "source": [
    "#Variables\n",
    "os.environ[\"GOOGLE_APPLICATION_CREDENTIALS\"] = 'key.json'\n",
    "project = \"velascoluis-test\"\n",
    "location = \"us\"\n",
    "dataset=\"dataqna\"\n",
    "table=\"natality\"\n",
    "scope = f\"//bigquery.googleapis.com/projects/{project}/datasets/{dataset}/tables/{table}\"\n",
    "RATE = 48000\n",
    "lang_code=\"es-ES\""
   ]
  },
  {
   "cell_type": "markdown",
   "metadata": {},
   "source": [
    "Tabla inspection: U.S.A. natality data"
   ]
  },
  {
   "cell_type": "code",
   "execution_count": 3,
   "metadata": {},
   "outputs": [
    {
     "name": "stdout",
     "output_type": "stream",
     "text": [
      "creationTime: '1610034903169'\n",
      "etag: OdoZ2kXnqLC8kN5xUpBIMA==\n",
      "id: velascoluis-test:dataqna_eu.natality\n",
      "kind: bigquery#table\n",
      "lastModifiedTime: '1610034903169'\n",
      "location: EU\n",
      "numBytes: '23562717384'\n",
      "numLongTermBytes: '0'\n",
      "numRows: '137826763'\n",
      "schema:\n",
      "  fields:\n",
      "  - name: source_year\n",
      "    type: INTEGER\n",
      "  - name: year\n",
      "    type: INTEGER\n",
      "  - name: month\n",
      "    type: INTEGER\n",
      "  - name: day\n",
      "    type: INTEGER\n",
      "  - name: wday\n",
      "    type: INTEGER\n",
      "  - name: state\n",
      "    type: STRING\n",
      "  - name: is_male\n",
      "    type: BOOLEAN\n",
      "  - name: child_race\n",
      "    type: INTEGER\n",
      "  - name: weight_pounds\n",
      "    type: FLOAT\n",
      "  - name: plurality\n",
      "    type: INTEGER\n",
      "  - name: apgar_1min\n",
      "    type: INTEGER\n",
      "  - name: apgar_5min\n",
      "    type: INTEGER\n",
      "  - name: mother_residence_state\n",
      "    type: STRING\n",
      "  - name: mother_race\n",
      "    type: INTEGER\n",
      "  - name: mother_age\n",
      "    type: INTEGER\n",
      "  - name: gestation_weeks\n",
      "    type: INTEGER\n",
      "  - name: lmp\n",
      "    type: STRING\n",
      "  - name: mother_married\n",
      "    type: BOOLEAN\n",
      "  - name: mother_birth_state\n",
      "    type: STRING\n",
      "  - name: cigarette_use\n",
      "    type: BOOLEAN\n",
      "  - name: cigarettes_per_day\n",
      "    type: INTEGER\n",
      "  - name: alcohol_use\n",
      "    type: BOOLEAN\n",
      "  - name: drinks_per_week\n",
      "    type: INTEGER\n",
      "  - name: weight_gain_pounds\n",
      "    type: INTEGER\n",
      "  - name: born_alive_alive\n",
      "    type: INTEGER\n",
      "  - name: born_alive_dead\n",
      "    type: INTEGER\n",
      "  - name: born_dead\n",
      "    type: INTEGER\n",
      "  - name: ever_born\n",
      "    type: INTEGER\n",
      "  - name: father_race\n",
      "    type: INTEGER\n",
      "  - name: father_age\n",
      "    type: INTEGER\n",
      "  - name: record_weight\n",
      "    type: INTEGER\n",
      "selfLink: https://bigquery.googleapis.com/bigquery/v2/projects/velascoluis-test/datasets/dataqna_eu/tables/natality\n",
      "tableReference:\n",
      "  datasetId: dataqna_eu\n",
      "  projectId: velascoluis-test\n",
      "  tableId: natality\n",
      "type: TABLE\n"
     ]
    }
   ],
   "source": [
    "!gcloud alpha bq tables describe --dataset dataqna_eu natality"
   ]
  },
  {
   "cell_type": "markdown",
   "metadata": {},
   "source": [
    "### 2. Record voice using local mic."
   ]
  },
  {
   "cell_type": "markdown",
   "metadata": {},
   "source": [
    "Example queries in Spanish:\n",
    "* ¿Cómo se ven afectadas las semanas de gestación promedio por beber? - OK\n",
    "* ¿Cuál es el mes más frecuente? - OK\n",
    "* Obtener el peso récord máximo por cada raza - OK\n",
    "* Compara  muertos y vivos para el estado AL"
   ]
  },
  {
   "cell_type": "code",
   "execution_count": 4,
   "metadata": {},
   "outputs": [
    {
     "data": {
      "application/vnd.jupyter.widget-view+json": {
       "model_id": "b1c2974eaccf41fa998d38ee2d336ec4",
       "version_major": 2,
       "version_minor": 0
      },
      "text/plain": [
       "AudioRecorder(audio=Audio(value=b'', format='webm'), stream=CameraStream(constraints={'audio': True, 'video': …"
      ]
     },
     "metadata": {},
     "output_type": "display_data"
    }
   ],
   "source": [
    "camera = CameraStream(constraints={'audio': True,'video':False})\n",
    "recorder = AudioRecorder(stream=camera)\n",
    "recorder"
   ]
  },
  {
   "cell_type": "code",
   "execution_count": null,
   "metadata": {},
   "outputs": [],
   "source": [
    "We need to change the webm file to a compatib"
   ]
  },
  {
   "cell_type": "code",
   "execution_count": 5,
   "metadata": {},
   "outputs": [],
   "source": [
    "with open(\"recording.webm\", 'wb') as f:\n",
    "    f.write(recorder.audio.value)\n",
    "!ffmpeg -i recording.webm -ac 1 -f wav command.wav -y -hide_banner -loglevel panic"
   ]
  },
  {
   "cell_type": "markdown",
   "metadata": {},
   "source": [
    "### 3. Transcript audio file using Google Cloud Speech-to-Text"
   ]
  },
  {
   "cell_type": "code",
   "execution_count": 93,
   "metadata": {},
   "outputs": [
    {
     "name": "stdout",
     "output_type": "stream",
     "text": [
      "ES StT transcript command: compara muertos y vivos para el Estado a L \n"
     ]
    }
   ],
   "source": [
    "transcript = \"\"\n",
    "client = speech.SpeechClient()\n",
    "with io.open(\"command.wav\", \"rb\") as audio_file:\n",
    "    content = audio_file.read()\n",
    "    audio = speech.RecognitionAudio(content=content)\n",
    "    config = speech.RecognitionConfig(\n",
    "        encoding=speech.RecognitionConfig.AudioEncoding.LINEAR16,\n",
    "        sample_rate_hertz=RATE,\n",
    "        language_code=lang_code,\n",
    "    )\n",
    "    response = client.recognize(config=config, audio=audio)\n",
    "    for result in response.results:\n",
    "        transcript = result.alternatives[0].transcript\n",
    "        print(f'''ES StT transcript command: {transcript} ''')"
   ]
  },
  {
   "cell_type": "markdown",
   "metadata": {},
   "source": [
    "### 4.Translate to English"
   ]
  },
  {
   "cell_type": "code",
   "execution_count": 94,
   "metadata": {},
   "outputs": [
    {
     "name": "stdout",
     "output_type": "stream",
     "text": [
      "EN Input command: compares dead and alive for the State to L \n"
     ]
    }
   ],
   "source": [
    "translate_client = translate.Client()\n",
    "result = translate_client.translate(transcript, target_language=\"en\")\n",
    "input_sql = html.unescape(result[\"translatedText\"])\n",
    "print(f'''EN Input command: {input_sql} ''')"
   ]
  },
  {
   "cell_type": "markdown",
   "metadata": {},
   "source": [
    "### 5. Call DataQnA to execute SQL against BQ"
   ]
  },
  {
   "cell_type": "code",
   "execution_count": 95,
   "metadata": {},
   "outputs": [
    {
     "name": "stdout",
     "output_type": "stream",
     "text": [
      "Question: compares dead and alive for the State to L\n",
      "Interpretation: Compare born_dead, born_alive_alive by state\n",
      "SQL Query:\n",
      "SELECT\n",
      "  state AS state,\n",
      "  (SUM(born_dead)) AS SUM_born_dead,\n",
      "  (SUM(born_alive_alive)) AS SUM_born_alive_alive\n",
      "FROM\n",
      "  `velascoluis-test.dataqna.natality`\n",
      "GROUP BY state;\n",
      "Results:\n",
      "[{'state': 'ID', 'SUM_born_dead': 222904, 'SUM_born_alive_alive': 732386}, {'state': 'AK', 'SUM_born_dead': 190427, 'SUM_born_alive_alive': 390708}, {'state': 'ND', 'SUM_born_dead': 139871, 'SUM_born_alive_alive': 361923}, {'state': 'MT', 'SUM_born_dead': 303186, 'SUM_born_alive_alive': 514305}, {'state': 'NH', 'SUM_born_dead': 481179, 'SUM_born_alive_alive': 600422}, {'state': 'VT', 'SUM_born_dead': 226876, 'SUM_born_alive_alive': 285829}, {'state': 'DC', 'SUM_born_dead': 319666, 'SUM_born_alive_alive': 577146}, {'state': 'SD', 'SUM_born_dead': 185170, 'SUM_born_alive_alive': 455305}, {'state': 'AL', 'SUM_born_dead': 545784, 'SUM_born_alive_alive': 1957848}, {'state': 'AR', 'SUM_born_dead': 305163, 'SUM_born_alive_alive': 1091847}, {'state': 'AZ', 'SUM_born_dead': 741833, 'SUM_born_alive_alive': 2193627}, {'state': 'FL', 'SUM_born_dead': 8503746, 'SUM_born_alive_alive': 10749741}, {'state': 'IA', 'SUM_born_dead': 809297, 'SUM_born_alive_alive': 1605101}, {'state': 'IL', 'SUM_born_dead': 2455320, 'SUM_born_alive_alive': 6730920}, {'state': 'KS', 'SUM_born_dead': 1313439, 'SUM_born_alive_alive': 1661681}, {'state': 'KY', 'SUM_born_dead': 893767, 'SUM_born_alive_alive': 1802186}, {'state': 'LA', 'SUM_born_dead': 595412, 'SUM_born_alive_alive': 2656626}, {'state': 'MA', 'SUM_born_dead': 3608641, 'SUM_born_alive_alive': 3662358}, {'state': 'MD', 'SUM_born_dead': 857690, 'SUM_born_alive_alive': 1963995}, {'state': 'MI', 'SUM_born_dead': 4104337, 'SUM_born_alive_alive': 6101287}, {'state': 'MO', 'SUM_born_dead': 1483340, 'SUM_born_alive_alive': 3030739}, {'state': 'NE', 'SUM_born_dead': 607809, 'SUM_born_alive_alive': 1037798}, {'state': 'OH', 'SUM_born_dead': 2784752, 'SUM_born_alive_alive': 5841963}, {'state': 'OK', 'SUM_born_dead': 730538, 'SUM_born_alive_alive': 1693284}, {'state': 'SC', 'SUM_born_dead': 1191587, 'SUM_born_alive_alive': 1878856}, {'state': 'UT', 'SUM_born_dead': 1891495, 'SUM_born_alive_alive': 2487527}, {'state': 'WA', 'SUM_born_dead': 1202479, 'SUM_born_alive_alive': 2316131}, {'state': 'WV', 'SUM_born_dead': 292893, 'SUM_born_alive_alive': 773910}, {'state': 'DE', 'SUM_born_dead': 190222, 'SUM_born_alive_alive': 332682}, {'state': 'HI', 'SUM_born_dead': 262357, 'SUM_born_alive_alive': 571280}, {'state': 'RI', 'SUM_born_dead': 439205, 'SUM_born_alive_alive': 580224}, {'state': 'ME', 'SUM_born_dead': 823602, 'SUM_born_alive_alive': 799667}, {'state': 'NV', 'SUM_born_dead': 357179, 'SUM_born_alive_alive': 699638}, {'state': 'WY', 'SUM_born_dead': 83857, 'SUM_born_alive_alive': 236768}, {'state': None, 'SUM_born_dead': 1497891, 'SUM_born_alive_alive': 4368780}, {'state': 'CA', 'SUM_born_dead': 5485301, 'SUM_born_alive_alive': 15886895}, {'state': 'CO', 'SUM_born_dead': 1992856, 'SUM_born_alive_alive': 2388418}, {'state': 'CT', 'SUM_born_dead': 1899289, 'SUM_born_alive_alive': 1989534}, {'state': 'GA', 'SUM_born_dead': 2876640, 'SUM_born_alive_alive': 4143224}, {'state': 'IN', 'SUM_born_dead': 3077994, 'SUM_born_alive_alive': 3654281}, {'state': 'MN', 'SUM_born_dead': 1205093, 'SUM_born_alive_alive': 2571129}, {'state': 'MS', 'SUM_born_dead': 386878, 'SUM_born_alive_alive': 1492270}, {'state': 'NC', 'SUM_born_dead': 1050665, 'SUM_born_alive_alive': 2980619}, {'state': 'NJ', 'SUM_born_dead': 4031483, 'SUM_born_alive_alive': 4367878}, {'state': 'NM', 'SUM_born_dead': 267373, 'SUM_born_alive_alive': 882732}, {'state': 'NY', 'SUM_born_dead': 22861923, 'SUM_born_alive_alive': 16141320}, {'state': 'OR', 'SUM_born_dead': 823062, 'SUM_born_alive_alive': 1534615}, {'state': 'PA', 'SUM_born_dead': 2356040, 'SUM_born_alive_alive': 5290612}, {'state': 'TN', 'SUM_born_dead': 1028139, 'SUM_born_alive_alive': 2488636}, {'state': 'TX', 'SUM_born_dead': 1749770, 'SUM_born_alive_alive': 10630087}, {'state': 'VA', 'SUM_born_dead': 1034251, 'SUM_born_alive_alive': 2585360}, {'state': 'WI', 'SUM_born_dead': 3628517, 'SUM_born_alive_alive': 3710933}]\n",
      "\n"
     ]
    }
   ],
   "source": [
    "client_options = ClientOptions(api_endpoint=f\"{location}-dataqna.googleapis.com\")\n",
    "suggest_client = AutoSuggestionServiceClient(client_options=client_options)\n",
    "questions_client = QuestionServiceClient(client_options=client_options)\n",
    "bq_client = bigquery.Client()\n",
    "parent = questions_client.common_location_path(project, location)\n",
    "question = Question(scopes=[scope], query=input_sql)\n",
    "question_response = questions_client.create_question(parent=parent, question=question)\n",
    "chosen_interpretation_index = 0\n",
    "question_response = questions_client.execute_question(name=question_response.name, interpretation_index=chosen_interpretation_index)\n",
    "chosen_interpretation = question_response.interpretations[chosen_interpretation_index]\n",
    "bigquery_job = chosen_interpretation.execution_info.bigquery_job\n",
    "job = bq_client.get_job(bigquery_job.job_id, bigquery_job.project_id, bigquery_job.location)\n",
    "job_results = job.result()\n",
    "headers = [schema_field.name for schema_field in job_results.schema]\n",
    "results = [dict(row) for row in job_results]\n",
    "print(f'''Question: {question_response.query}\n",
    "Interpretation: {chosen_interpretation.human_readable.generated_interpretation.text_formatted}\n",
    "SQL Query:\n",
    "{chosen_interpretation.data_query.sql}\n",
    "Results:\n",
    "{results}\n",
    "''')"
   ]
  },
  {
   "cell_type": "code",
   "execution_count": 96,
   "metadata": {},
   "outputs": [
    {
     "data": {
      "image/png": "[encoded data removed]",
      "text/plain": [
       "<Figure size 432x288 with 1 Axes>"
      ]
     },
     "metadata": {
      "needs_background": "light"
     },
     "output_type": "display_data"
    }
   ],
   "source": [
    "df = job.result().to_dataframe()\n",
    "df.plot(kind='bar',x=df.columns[0],y=df.columns[1],color='blue')\n",
    "plt.show()"
   ]
  }
 ],
 "metadata": {
  "kernelspec": {
   "display_name": "Python 3",
   "language": "python",
   "name": "python3"
  },
  "language_info": {
   "codemirror_mode": {
    "name": "ipython",
    "version": 3
   },
   "file_extension": ".py",
   "mimetype": "text/x-python",
   "name": "python",
   "nbconvert_exporter": "python",
   "pygments_lexer": "ipython3",
   "version": "3.7.4"
  }
 },
 "nbformat": 4,
 "nbformat_minor": 4
}
